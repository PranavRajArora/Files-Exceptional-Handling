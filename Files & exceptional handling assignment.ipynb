{
 "cells": [
  {
   "cell_type": "markdown",
   "id": "39c21640-af93-4ca7-9a36-93be314eddd6",
   "metadata": {},
   "source": []
  },
  {
   "cell_type": "code",
   "execution_count": 4,
   "id": "b0213725-2e56-49f8-90e4-37529df339d2",
   "metadata": {},
   "outputs": [],
   "source": [
    "###THEORY QUESTIONS###\n"
   ]
  },
  {
   "cell_type": "raw",
   "id": "67b8a3cf-7c95-40f0-84e1-3468c34bf231",
   "metadata": {},
   "source": [
    "Q.1.What is the difference between interpreted and compiled language?\n",
    "A.1. The difference between interpreted and compiled languages lies in how the code is executed by a computer. In compiled languages, the source code is translated into machine code by a compiler before the program runs, resulting in faster execution and better performance. Examples include C and C++. Interpreted languages are executed line-by-line at runtime by an interpreter, which makes them more flexible and easier to debug but generally slower. Python and JavaScript are common examples. Some languages, like Java and Python, use a hybrid approach, compiling to intermediate bytecode that is then interpreted by a virtual machine."
   ]
  },
  {
   "cell_type": "raw",
   "id": "402bd4a7-c605-4910-bbe4-9cb81efd993c",
   "metadata": {},
   "source": [
    "Q.2 What is exception handling in Python?\n",
    "A.2. Exception handling in Python is a way to manage errors that occur during the execution of a program, allowing it to continue running or fail gracefully instead of crashing. Python uses the try, except, else, and finally blocks to catch and handle exceptions."
   ]
  },
  {
   "cell_type": "raw",
   "id": "2f75b5a3-4ccd-4301-89f6-8cd13e647aeb",
   "metadata": {},
   "source": [
    "Q.3. What is the purpose of the finally block in exception handling?\n",
    "A.3. The purpose of the finally block in exception handling is to define a section of code that will always execute, no matter what happens in the try or except blocks—whether an exception is raised, handled, or not raised at all. It's commonly used for cleanup actions like closing files, releasing resources, or resetting variables, to ensure that important final steps are performed regardless of how the try block completes.\n"
   ]
  },
  {
   "cell_type": "raw",
   "id": "0d2ef325-eb9f-47dd-8ba5-3819bf41e507",
   "metadata": {},
   "source": [
    "Q.4. What is logging in Python?\n",
    "A.4. Logging in Python is a way to track events and messages that happen when a program runs. It helps developers monitor, debug, and understand how code behaves, especially in larger or long-running applications. Python provides a built-in logging module to create logs instead of using simple print() statements.\n",
    "Logging has different levels: Info, Debug, Warning, Error and Critical which depict the level of the issue."
   ]
  },
  {
   "cell_type": "raw",
   "id": "5dbecfee-5704-457c-bec6-ff5a38f421b9",
   "metadata": {},
   "source": [
    "Q.5. What is the significance of the __del__ method in Python?\n",
    "A.5. The __del__ method in Python is a special method known as a destructor. It is called automatically when an object is about to be destroyed—typically when there are no more references to it. The main purpose of __del__ is to allow you to define cleanup behavior, such as releasing resources like files or network connections.\n"
   ]
  },
  {
   "cell_type": "raw",
   "id": "1c49491e-0ad2-4df2-85aa-1cbe9d2e5138",
   "metadata": {},
   "source": [
    "Q.6. What is the difference between import and from ... import in Python?\n",
    "A.6. In Python, the distinction between import and from ... import revolves around how external code is incorporated into your program. Utilizing import loads the whole module, requiring you to reference its functions or variables with the module name as a prefix (e.g., math.sqrt(16)). Conversely, from ... import enables you to import specific components of a module directly, allowing you to use them without the module prefix (e.g., sqrt(16)). While from ... import can result in shorter, more convenient code, it can also lead to name conflicts if multiple modules contain items with identical names. Alternatively, import helps to maintain a cleaner namespace and is generally considered safer in larger applications."
   ]
  },
  {
   "cell_type": "raw",
   "id": "84b66e4a-1ccf-4d86-9460-fbd85115bfcc",
   "metadata": {},
   "source": [
    "Q.7. How can you handle multiple exceptions in Python?\n",
    "A.7. In Python, you can handle multiple exceptions by using multiple except blocks or by grouping exceptions in a single block using parentheses. This allows your program to respond differently based on the type of error that occurs or to handle several types of errors with the same code.\n",
    "1. Using Multiple except blocks (Individual exception)\n",
    "2.  Single except block for multiple exceptions (handle together)\n",
    "3.  Using as to get exceptions (Exception as e)"
   ]
  },
  {
   "cell_type": "raw",
   "id": "616a6066-a9df-4a92-8a02-61dc1f10f144",
   "metadata": {},
   "source": [
    "Q.8. What is the purpose of the with statement when handling files in Python?\n",
    "A.8. The purpose of the with statement when handling files in Python is to manage resources automatically, especially for opening and closing files. It ensures that the file is properly closed, even if an error occurs while the file is being read or written. This makes your code cleaner, safer, and more readable by eliminating the need to explicitly call file.close()."
   ]
  },
  {
   "cell_type": "raw",
   "id": "cf986791-2f23-442f-a6d7-a87cbc20b1d0",
   "metadata": {},
   "source": [
    "Q.9. What is the difference between multithreading and multiprocessing in Python?\n",
    "A.9. The difference between multithreading and multiprocessing lies in how they handle tasks to achieve concurrency or parallelism. Multithreading runs multiple threads within the same process, sharing the same memory space, which makes communication between threads easy but can be limited by Python’s Global Interpreter Lock (GIL), meaning only one thread executes Python bytecode at a time. It’s best suited for I/O-bound tasks like reading files or network operations. In contrast, multiprocessing runs multiple processes independently, each with its own memory space and Python interpreter, allowing true parallelism on multiple CPU cores. This makes multiprocessing better for CPU-bound tasks like heavy computations, but inter-process communication is more complex and slower compared to threads."
   ]
  },
  {
   "cell_type": "raw",
   "id": "24a8c877-536d-4f24-b408-76343ebf1dca",
   "metadata": {},
   "source": [
    "Q.10. What are the advantages of using logging in a program?\n",
    "A.10. Using logging in a program offers several advantages: it helps track the program’s behavior by recording important events and errors, making it easier to debug and diagnose problems. Logging provides a persistent record that can be reviewed later, unlike print statements which only show output in real-time. It allows messages to be categorized by severity (like info, warning, error), so developers can filter and prioritize issues efficiently"
   ]
  },
  {
   "cell_type": "raw",
   "id": "1473dfce-ed8f-4f8b-a11e-83972f1cc574",
   "metadata": {},
   "source": [
    "Q.11. What is memory management in Python?\n",
    "A.11. Memory management in Python refers to the way Python allocates, tracks, and frees memory used by objects during a program’s execution. Python handles memory automatically through a combination of reference counting—where each object keeps track of how many references point to it—and a garbage collector that cleans up unused objects, especially those involved in reference cycles. This system helps prevent memory leaks by freeing memory when objects are no longer needed, allowing developers to focus on writing code without worrying about manual memory allocation or deallocation."
   ]
  },
  {
   "cell_type": "raw",
   "id": "e958b433-7da2-47be-8cf6-2dcf8b3195b2",
   "metadata": {},
   "source": [
    "Q.12. What are the basic steps involved in exception handling in Python?\n",
    "A.12. The basic steps involved in exception handling in Python are:\n",
    "1. Write the code that might cause an error inside a try block — this is where you put the statements that could raise exceptions.\n",
    "2. Use one or more except blocks to catch and handle specific exceptions if they occur, allowing the program to respond gracefully instead of crashing.\n",
    "3.Optionally, include an else block that runs if no exceptions were raised in the try block.\n",
    "4. Optionally, add a finally block that executes code regardless of whether an exception occurred or not, often used for cleanup actions like closing files."
   ]
  },
  {
   "cell_type": "raw",
   "id": "be0d6ccd-4402-409d-9d8a-58d118993305",
   "metadata": {},
   "source": [
    "Q.13. Why is memory management important in Python?\n",
    "A.13. Memory management is important in Python because it ensures that a program uses memory efficiently, preventing issues like memory leaks or excessive memory consumption that can slow down or crash applications. Proper memory management helps free up resources when they are no longer needed, allowing Python programs to run smoothly, especially for long-running processes or those handling large amounts of data. By automatically handling allocation and deallocation through techniques like reference counting and garbage collection, Python helps developers avoid manual memory errors and focus on writing clean, reliable code."
   ]
  },
  {
   "cell_type": "raw",
   "id": "099c7f23-8ade-4753-ada6-6b5d43ee160e",
   "metadata": {},
   "source": [
    "Q.14. What is the role of try and except in exception handling?\n",
    "A.14. The try and except blocks in Python work together to handle errors that might occur during program execution. The try block contains code that could potentially raise an exception, while the except block defines how to respond if a specific error happens. When an exception occurs inside the try block, Python immediately stops executing that block and looks for a matching except block to handle the error, allowing the program to continue running instead of crashing. This mechanism helps make programs more robust and user-friendly by gracefully managing unexpected problems."
   ]
  },
  {
   "cell_type": "raw",
   "id": "0c66782f-8622-4ce4-948c-3a61e511922a",
   "metadata": {},
   "source": [
    "Q.15.How does Python's garbage collection system work?\n",
    "A.15. Python’s garbage collection system works primarily through reference counting combined with a cyclic garbage collector. Every object in Python keeps track of how many references point to it (reference count). When this count drops to zero—meaning no part of the program is using the object anymore—Python immediately frees the memory. However, reference counting alone can’t handle reference cycles (objects referencing each other). To solve this, Python has a cyclic garbage collector that periodically looks for groups of objects involved in such cycles and cleans them up if they’re no longer accessible. This two-part system helps manage memory efficiently and automatically without requiring the programmer to manually free memory.\n"
   ]
  },
  {
   "cell_type": "raw",
   "id": "4abf02da-2f26-46d7-a289-83039ff7a866",
   "metadata": {},
   "source": [
    "Q.16. What is the purpose of the else block in exception handling in Python?\n",
    "A.16. The purpose of the else block in Python exception handling is to specify code that should run only if no exceptions were raised in the preceding try block. It provides a clean way to separate the main logic that depends on successful execution from the error-handling code. If an exception occurs, the else block is skipped, but if everything runs smoothly, the else block executes after the try. This helps keep the code more organized and readable."
   ]
  },
  {
   "cell_type": "raw",
   "id": "ca67ab77-9620-4433-aeae-50453d1f1a37",
   "metadata": {},
   "source": [
    "Q.17.  What are the common logging levels in Python?\n",
    "A.17. The common logging levels in Python are:\n",
    "\n",
    "DEBUG: Detailed information, typically useful only for diagnosing problems during development.\n",
    "\n",
    "INFO: General informational messages that highlight the progress of the application.\n",
    "\n",
    "WARNING: Indications of potential problems or important situations that don’t stop the program but might need attention.\n",
    "\n",
    "ERROR: Serious issues that cause parts of the program to fail.\n",
    "\n",
    "CRITICAL: Very severe errors that may cause the program to terminate."
   ]
  },
  {
   "cell_type": "raw",
   "id": "a0b86ce7-efb4-4150-9401-3565b306777a",
   "metadata": {},
   "source": [
    "Q.18. What is the difference between os.fork() and multiprocessing in Python?\n",
    "A.18. The difference between os.fork() and the multiprocessing module in Python lies mainly in how processes are created and managed and their level of abstraction:\n",
    "1. os.fork() is a low-level system call available on Unix-like systems that creates a new child process by duplicating the current process. After a fork, both parent and child continue executing independently. It’s powerful but more complex to use correctly because you have to manage process behavior and communication manually. \n",
    "\n",
    "2. multiprocessing is a high-level Python module that provides a portable and easier-to-use API for creating and managing separate processes. It works on Unix and Windows, abstracts away low-level details, and includes convenient features like process pools, communication via queues or pipes, and synchronization primitives. It’s designed for parallel execution of Python code with less hassle compared to os.fork()."
   ]
  },
  {
   "cell_type": "raw",
   "id": "81c6613b-a841-4caa-988f-9826fe9ebf2e",
   "metadata": {},
   "source": [
    "Q.19. What is the importance of closing a file in Python?\n",
    "A.19. Closing a file in Python is important because it releases the system resources associated with the file, such as file handles or memory buffers. When a file is open, the operating system keeps it locked or reserved, and failing to close it can lead to resource leaks, which might cause your program or other programs to run out of available file handles. Additionally, closing a file ensures that all data is properly written (flushed) to the disk, preventing data loss or corruption. Using with statements automates this process by closing the file automatically, making your code safer and cleaner."
   ]
  },
  {
   "cell_type": "raw",
   "id": "eb787468-4158-4165-9b93-3a3cf755e87c",
   "metadata": {},
   "source": [
    "Q.20.What is the difference between file.read() and file.readline() in Python?\n",
    "A.20. The difference between file.read() and file.readline() in Python is how much data they read from a file:\n",
    "\n",
    "file.read() reads the entire content of the file (or a specified number of bytes if you pass an argument) and returns it as a single string. It’s useful when you want to process the whole file at once.\n",
    "\n",
    "file.readline() reads one line at a time from the file, returning a string containing that line including the newline character at the end. It’s handy when you want to process the file line by line, especially for large files."
   ]
  },
  {
   "cell_type": "raw",
   "id": "4aa10630-6dfd-43d7-b178-24e94ea2e395",
   "metadata": {},
   "source": [
    "Q.21.  What is the logging module in Python used for?\n",
    "A.21. The logging module in Python is used for tracking events that happen during program execution by recording messages with different levels of severity. It helps developers monitor, debug, and analyze their code by capturing informational messages, warnings, errors, and critical issues. "
   ]
  },
  {
   "cell_type": "raw",
   "id": "730d1288-ba3f-4d5c-b904-eb7b6477def0",
   "metadata": {},
   "source": [
    "Q.22. What is the os module in Python used for in file handling?\n",
    "A.22. The os module in Python is used in file handling to interact with the operating system and perform tasks related to files and directories. It provides functions to create, delete, rename, and manipulate files and folders, as well as to get information about file paths, permissions, and metadata. For example, you can use os.rename() to rename a file, os.remove() to delete a file, os.mkdir() to create a directory, or os.path functions to work with file paths in a platform-independent way. Overall, the os module helps manage the file system beyond just reading and writing file contents."
   ]
  },
  {
   "cell_type": "raw",
   "id": "03d132d7-13a4-459d-b7c5-4617368d1be1",
   "metadata": {},
   "source": [
    "Q.23. What are the challenges associated with memory management in Python?\n",
    "A.23. Reference Cycles: While Python uses reference counting to manage memory, it struggles with objects that reference each other in a cycle, which can prevent automatic deallocation. Although the garbage collector helps detect and clean these cycles, it can add overhead and complexity.\n",
    "\n",
    "Memory Leaks: Improper handling of resources or keeping unnecessary references can cause memory leaks, where memory that’s no longer needed isn’t freed, leading to increased memory usage over time.\n",
    "\n",
    "Overhead of Garbage Collection: The garbage collector runs periodically and can introduce performance overhead, especially in programs with many objects or complex object graphs.\n",
    "\n",
    "Limited Control: Python abstracts away low-level memory management, which makes it easier to program but limits fine-tuned control over how and when memory is allocated or released, potentially leading to inefficiencies.\n",
    "\n",
    "Large Object Management: Handling very large objects or data structures can cause fragmentation or excessive memory consumption if not managed carefully."
   ]
  },
  {
   "cell_type": "raw",
   "id": "9020c86d-1735-4146-a6ed-77542ce29ee7",
   "metadata": {},
   "source": [
    "Q.24. How do you raise an exception manually in Python?\n",
    "A.24. You can raise an exception manually in Python using the raise statement followed by an exception class or an exception instance. This allows you to trigger errors intentionally when certain conditions are met in the code."
   ]
  },
  {
   "cell_type": "raw",
   "id": "0eba006f-abd2-4849-859d-441d9ed08182",
   "metadata": {},
   "source": [
    "Q.25. Why is it important to use multithreading in certain applications?\n",
    "A.25. Multithreading is important in certain applications because it allows multiple tasks to run concurrently within the same program, improving responsiveness and efficiency—especially for I/O-bound operations like reading files, handling network requests, or interacting with databases. By using multiple threads, an application can continue processing other tasks while waiting for slower operations to complete, leading to better resource utilization and smoother user experiences. Multithreading is particularly valuable in GUI applications, web servers, and real-time systems where keeping the program responsive is critical."
   ]
  },
  {
   "cell_type": "code",
   "execution_count": null,
   "id": "a6ab48b3-fc1c-4c59-9827-2a5888dcc0ba",
   "metadata": {},
   "outputs": [],
   "source": []
  },
  {
   "cell_type": "code",
   "execution_count": null,
   "id": "0bee1ec5-0760-47a3-8291-e3931f31c8d0",
   "metadata": {},
   "outputs": [],
   "source": []
  },
  {
   "cell_type": "code",
   "execution_count": 3,
   "id": "84e2866f-8429-482f-b5f0-4cf6979efc71",
   "metadata": {},
   "outputs": [],
   "source": [
    "###PRACTICAL QUESTIONS###\n"
   ]
  },
  {
   "cell_type": "code",
   "execution_count": 7,
   "id": "567b6a4a-73cd-4423-965a-996b360f2189",
   "metadata": {},
   "outputs": [],
   "source": [
    "#A.1.\n",
    "with open(\"example.txt\", \"w\") as file:\n",
    "    file.write(\"Hello, this is a string written to the file.\")"
   ]
  },
  {
   "cell_type": "code",
   "execution_count": 9,
   "id": "c8cfb09b-e565-4855-b55e-34e92b99d9e8",
   "metadata": {},
   "outputs": [
    {
     "name": "stdout",
     "output_type": "stream",
     "text": [
      "Read from file: Hello, this is a string written to the file.\n"
     ]
    }
   ],
   "source": [
    "#A.2 \n",
    "with open(\"example.txt\", \"r\") as file:\n",
    "    line = file.readline()\n",
    "    print(\"Read from file:\", line)"
   ]
  },
  {
   "cell_type": "code",
   "execution_count": 10,
   "id": "de66183b-c95d-4cea-a2ee-9152c386d22c",
   "metadata": {},
   "outputs": [
    {
     "name": "stdout",
     "output_type": "stream",
     "text": [
      "Error: The file 'file1.txt' does not exist.\n"
     ]
    }
   ],
   "source": [
    "#A.3.\n",
    "filename = \"file1.txt\"\n",
    "\n",
    "try:\n",
    "    with open(filename, \"r\") as file:\n",
    "        for line in file:\n",
    "            print(line.strip())\n",
    "except FileNotFoundError:\n",
    "    print(f\"Error: The file '{filename}' does not exist.\")"
   ]
  },
  {
   "cell_type": "code",
   "execution_count": 11,
   "id": "82741c4e-3463-47ef-b1e8-2f40c042b92e",
   "metadata": {},
   "outputs": [
    {
     "name": "stdout",
     "output_type": "stream",
     "text": [
      "Error: The file 'source.txt' does not exist.\n"
     ]
    }
   ],
   "source": [
    "#A.4. \n",
    "source_file = \"source.txt\"\n",
    "destination_file = \"destination.txt\"\n",
    "\n",
    "try:\n",
    "    with open(source_file, \"r\") as src:\n",
    "        with open(destination_file, \"w\") as dest:\n",
    "            for line in src:\n",
    "                dest.write(line)\n",
    "    print(f\"Contents copied from '{source_file}' to '{destination_file}' successfully.\")\n",
    "except FileNotFoundError:\n",
    "    print(f\"Error: The file '{source_file}' does not exist.\")"
   ]
  },
  {
   "cell_type": "code",
   "execution_count": 12,
   "id": "a005f491-640c-427f-8d28-d6a1da30fa5d",
   "metadata": {},
   "outputs": [],
   "source": [
    "#A.5. \n",
    "def divide(x, y):\n",
    "    if y == 0:\n",
    "        print(\"Error: Division by zero is not allowed.\")\n",
    "        return None\n",
    "    return x / y"
   ]
  },
  {
   "cell_type": "code",
   "execution_count": 15,
   "id": "65dd1f05-10f2-4cd9-8c95-edd50228639d",
   "metadata": {},
   "outputs": [
    {
     "name": "stdout",
     "output_type": "stream",
     "text": [
      "Error: Division by zero is not allowed.\n"
     ]
    }
   ],
   "source": [
    "divide(5,0)"
   ]
  },
  {
   "cell_type": "code",
   "execution_count": 16,
   "id": "5da0f874-ba46-4502-b53c-b74f8d9cee8f",
   "metadata": {},
   "outputs": [],
   "source": [
    "#A.6. \n",
    "import logging\n",
    "\n",
    "logging.basicConfig(\n",
    "    filename='error.log',  \n",
    "    level=logging.ERROR,   \n",
    "    format='%(asctime)s - %(levelname)s - %(message)s'  \n",
    ")\n",
    "\n",
    "def divide_numbers(a, b):\n",
    "    try:\n",
    "        result = a / b\n",
    "        print(f\"Result: {result}\")\n",
    "    except ZeroDivisionError:\n",
    "        logging.exception(\"Attempted to divide by zero.\")\n",
    "\n",
    "divide_numbers(10, 0)\n"
   ]
  },
  {
   "cell_type": "code",
   "execution_count": 20,
   "id": "77d24c5a-e381-4519-9217-41943b282c19",
   "metadata": {},
   "outputs": [],
   "source": [
    "#A.7.\n",
    "import logging\n",
    "\n",
    "logging.basicConfig(\n",
    "    level=logging.DEBUG,  #log level set to DEBUG\n",
    "    format='%(asctime)s - %(levelname)s - %(message)s' \n",
    ")\n",
    "\n",
    "# Log messages at various severity levels\n",
    "logging.debug(\"This is a DEBUG message.\")\n",
    "logging.info(\"This is an INFO message.\")\n",
    "logging.warning(\"This is a WARNING message.\")\n",
    "logging.error(\"This is an ERROR message.\")\n",
    "logging.critical(\"This is a CRITICAL message.\")\n"
   ]
  },
  {
   "cell_type": "code",
   "execution_count": 21,
   "id": "df864555-1e0e-47b3-933f-b31ba51c086f",
   "metadata": {},
   "outputs": [
    {
     "name": "stdout",
     "output_type": "stream",
     "text": [
      "Error: The file 'test2' does not exist.\n"
     ]
    }
   ],
   "source": [
    "#A.8.\n",
    "filename = \"test2\"\n",
    "\n",
    "try:\n",
    "    with open(filename, \"r\") as file:\n",
    "        content = file.read()\n",
    "        print(\"File contents:\")\n",
    "        print(content)\n",
    "except FileNotFoundError:\n",
    "    print(f\"Error: The file '{filename}' does not exist.\")\n"
   ]
  },
  {
   "cell_type": "code",
   "execution_count": 23,
   "id": "defb3709-612f-405d-a8a7-9cb25450488f",
   "metadata": {},
   "outputs": [],
   "source": [
    "#A.9.\n",
    "#reading the lines using for loop and appending each line to the list\n",
    "lines = []\n",
    "with open(\"example.txt\", \"r\") as file: #\n",
    "    for line in file:\n",
    "        lines.append(line.strip())"
   ]
  },
  {
   "cell_type": "code",
   "execution_count": 24,
   "id": "439e27b2-def0-4e56-ac4a-02ad4ced4d05",
   "metadata": {},
   "outputs": [],
   "source": [
    "#A.10.\n",
    "\n",
    "with open(\"example.txt\", \"a\") as file:\n",
    "    file.write(\"This is a new line of text.\\n\")"
   ]
  },
  {
   "cell_type": "code",
   "execution_count": 25,
   "id": "a4b8ba8e-d3d2-447a-ab72-3b95654d6977",
   "metadata": {},
   "outputs": [
    {
     "name": "stdout",
     "output_type": "stream",
     "text": [
      "Error: The key 'email' does not exist in the dictionary.\n"
     ]
    }
   ],
   "source": [
    "#A.11.\n",
    "my_dict = {'name': 'Raj', 'age': 30, 'city': 'Kolkata'}\n",
    "key_to_access = 'email' #key value that does not exist\n",
    "\n",
    "try:\n",
    "    value = my_dict[key_to_access]\n",
    "    print(f\"The value for '{key_to_access}' is: {value}\")\n",
    "except KeyError:\n",
    "    print(f\"Error: The key '{key_to_access}' does not exist in the dictionary.\")\n"
   ]
  },
  {
   "cell_type": "code",
   "execution_count": 27,
   "id": "090e7ce2-6b56-4175-a162-605f0a139d14",
   "metadata": {},
   "outputs": [
    {
     "name": "stdout",
     "output_type": "stream",
     "text": [
      "Element at index 1 is 20\n",
      "Error: Division by zero is not allowed.\n",
      "Element at index 2 is a\n",
      "Error: Invalid data type encountered.\n"
     ]
    }
   ],
   "source": [
    "#A.12.\n",
    "\n",
    "def divide_and_access_element(numbers, index, divisor):\n",
    "    try:\n",
    "        # Access an element from the list\n",
    "        element = numbers[index]\n",
    "        print(f\"Element at index {index} is {element}\")\n",
    "\n",
    "        # Perform division\n",
    "        result = element / divisor\n",
    "        print(f\"Result of division: {result}\")\n",
    "\n",
    "    except ZeroDivisionError:\n",
    "        print(\"Error: Division by zero is not allowed.\")\n",
    "    except TypeError:\n",
    "        print(\"Error: Invalid data type encountered.\")\n",
    "    except Exception as e:\n",
    "        print(f\"An unexpected error occurred: {e}\")\n",
    "\n",
    "# Example usages:\n",
    "divide_and_access_element([10, 20, 30], 1, 0)    # ZeroDivisionError\n",
    "divide_and_access_element([10, 20, 'a'], 2, 2)   # TypeError\n"
   ]
  },
  {
   "cell_type": "code",
   "execution_count": 28,
   "id": "b4bf3847-5de5-475f-ae5b-af1eaf0de115",
   "metadata": {},
   "outputs": [
    {
     "name": "stdout",
     "output_type": "stream",
     "text": [
      "Hello, this is a string written to the file.This is a new line of text.\n",
      "\n"
     ]
    }
   ],
   "source": [
    "#A.13.\n",
    "\n",
    "import os\n",
    "\n",
    "filename = \"example.txt\"\n",
    "\n",
    "if os.path.exists(filename):\n",
    "    with open(filename, \"r\") as file:\n",
    "        content = file.read()\n",
    "        print(content)\n",
    "else:\n",
    "    print(f\"The file '{filename}' does not exist.\")"
   ]
  },
  {
   "cell_type": "code",
   "execution_count": 29,
   "id": "64d3c58c-b4a4-41d9-babd-bfb8167c77f1",
   "metadata": {},
   "outputs": [
    {
     "name": "stdout",
     "output_type": "stream",
     "text": [
      "Result: 5.0\n"
     ]
    }
   ],
   "source": [
    "#A.14.\n",
    "\n",
    "import logging\n",
    "\n",
    "logging.basicConfig(\n",
    "    filename='app.log',\n",
    "    level=logging.DEBUG,  # Log all messages at DEBUG level and above\n",
    "    format='%(asctime)s - %(levelname)s - %(message)s'\n",
    ")\n",
    "\n",
    "def divide(a, b):\n",
    "    try:\n",
    "        logging.info(f\"Attempting to divide {a} by {b}\")\n",
    "        result = a / b\n",
    "        logging.info(f\"Division successful: {result}\")\n",
    "        return result\n",
    "    except ZeroDivisionError:\n",
    "        logging.error(\"Error: Division by zero attempted.\")\n",
    "        return None\n",
    "\n",
    "# Example usage\n",
    "divide_numbers(10, 2)  # Should log info about successful division\n",
    "divide_numbers(10, 0)  # Should log error about division by zero\n"
   ]
  },
  {
   "cell_type": "code",
   "execution_count": 42,
   "id": "f1f5af41-6879-454c-abb0-22e94a5506a1",
   "metadata": {},
   "outputs": [
    {
     "name": "stdout",
     "output_type": "stream",
     "text": [
      "The file 'example1.txt' is empty.\n"
     ]
    }
   ],
   "source": [
    "#A.15.\n",
    "\n",
    "filename = \"example1.txt\"\n",
    "\n",
    "try:\n",
    "        with open(filename, \"w\") as file: #creates a new file which is empty\n",
    "            with open(filename, \"r\") as file:\n",
    "                content = file.read()\n",
    "            if content:\n",
    "                print(\"File contents:\")\n",
    "                print(content)\n",
    "            else:\n",
    "                print(f\"The file '{filename}' is empty.\")\n",
    "except FileNotFoundError:\n",
    "    print(f\"Error: The file '{filename}' does not exist.\")"
   ]
  },
  {
   "cell_type": "raw",
   "id": "c6f7bfb9-6693-45b7-9cc0-7ca3e4753d38",
   "metadata": {},
   "source": [
    "#A.16.\n",
    "\n",
    "I didnt come across the memory profiler in the material taught thus far\n"
   ]
  },
  {
   "cell_type": "code",
   "execution_count": 43,
   "id": "47c72d92-1d54-4644-9263-56dc3ff9c76f",
   "metadata": {},
   "outputs": [
    {
     "name": "stdout",
     "output_type": "stream",
     "text": [
      "Numbers have been written to 'numbers.txt'.\n"
     ]
    }
   ],
   "source": [
    "#A.17.\n",
    "\n",
    "numbers = [10, 20, 30, 40, 50]\n",
    "filename = \"numbers.txt\"\n",
    "\n",
    "with open(filename, \"w\") as file:\n",
    "    for number in numbers:\n",
    "        file.write(f\"{number}\\n\")\n",
    "\n",
    "print(f\"Numbers have been written to '{filename}'.\")\n"
   ]
  },
  {
   "cell_type": "code",
   "execution_count": 44,
   "id": "0696ba59-f142-4c85-b32c-b678936bf0ba",
   "metadata": {},
   "outputs": [],
   "source": [
    "#A.18.\n",
    "\n",
    "import logging\n",
    "from logging.handlers import RotatingFileHandler\n",
    "\n",
    "# Create a logger\n",
    "logger = logging.getLogger(\"MyLogger\")\n",
    "logger.setLevel(logging.DEBUG)  # Log all levels DEBUG and above\n",
    "\n",
    "# Create a rotating file handler\n",
    "handler = RotatingFileHandler(\n",
    "    \"app.log\", maxBytes=1_000_000, backupCount=3  # 1MB limit, keep up to 3 backups\n",
    ")\n",
    "handler.setLevel(logging.DEBUG)\n",
    "\n",
    "# Create a formatter and set it for the handler\n",
    "formatter = logging.Formatter('%(asctime)s - %(levelname)s - %(message)s')\n",
    "handler.setFormatter(formatter)\n",
    "\n",
    "# Add the handler to the logger\n",
    "logger.addHandler(handler)\n",
    "\n",
    "# Example logging\n",
    "logger.info(\"This is an info message.\")\n",
    "logger.error(\"This is an error message.\")\n"
   ]
  },
  {
   "cell_type": "code",
   "execution_count": 45,
   "id": "bd45f0a6-817b-4730-8562-48765c170a18",
   "metadata": {},
   "outputs": [
    {
     "name": "stdout",
     "output_type": "stream",
     "text": [
      "Error: List index is out of range.\n"
     ]
    }
   ],
   "source": [
    "#A.19.\n",
    "\n",
    "my_list = [10, 20, 30]\n",
    "my_dict = {'a': 1, 'b': 2}\n",
    "\n",
    "try:\n",
    "    # Attempt to access an invalid list index\n",
    "    print(my_list[5])\n",
    "\n",
    "    # Attempt to access a non-existent dictionary key\n",
    "    print(my_dict['c'])\n",
    "\n",
    "except IndexError:\n",
    "    print(\"Error: List index is out of range.\")\n",
    "except KeyError:\n",
    "    print(\"Error: Dictionary key does not exist.\")\n"
   ]
  },
  {
   "cell_type": "code",
   "execution_count": 46,
   "id": "e7104042-d557-4898-9460-eec15181bc8e",
   "metadata": {},
   "outputs": [
    {
     "name": "stdout",
     "output_type": "stream",
     "text": [
      "Hello, this is a string written to the file.This is a new line of text.\n",
      "\n"
     ]
    }
   ],
   "source": [
    "#A.20.\n",
    "\n",
    "filename = \"example.txt\"\n",
    "\n",
    "with open(filename, \"r\") as file:\n",
    "    content = file.read()\n",
    "\n",
    "print(content)"
   ]
  },
  {
   "cell_type": "code",
   "execution_count": 47,
   "id": "aeefba33-d83e-4904-b39b-cde12346ac5f",
   "metadata": {},
   "outputs": [
    {
     "name": "stdout",
     "output_type": "stream",
     "text": [
      "The word 'python' occurs 0 times in the file 'example.txt'.\n"
     ]
    }
   ],
   "source": [
    "#A.21.\n",
    "\n",
    "def count_word_occurrences(filename, word):\n",
    "    try:\n",
    "        with open(filename, \"r\") as file:\n",
    "            content = file.read().lower()  # Convert to lowercase for case-insensitive search\n",
    "            word = word.lower()\n",
    "            count = content.split().count(word)\n",
    "        print(f\"The word '{word}' occurs {count} times in the file '{filename}'.\")\n",
    "    except FileNotFoundError:\n",
    "        print(f\"Error: The file '{filename}' does not exist.\")\n",
    "\n",
    "# Example usage\n",
    "count_word_occurrences(\"example.txt\", \"python\")\n"
   ]
  },
  {
   "cell_type": "code",
   "execution_count": 49,
   "id": "87e365ef-5a50-4748-bcd8-194a2622ad38",
   "metadata": {},
   "outputs": [
    {
     "name": "stdout",
     "output_type": "stream",
     "text": [
      "The file 'example3.txt' is empty or does not exist.\n"
     ]
    }
   ],
   "source": [
    "#A.22.\n",
    "\n",
    "import os\n",
    "\n",
    "filename = \"example3.txt\"\n",
    "\n",
    "if os.path.exists(filename) and os.path.getsize(filename) > 0:\n",
    "    with open(filename, \"r\") as file:\n",
    "        content = file.read()\n",
    "        print(content)\n",
    "else:\n",
    "    print(f\"The file '{filename}' is empty or does not exist.\")"
   ]
  },
  {
   "cell_type": "code",
   "execution_count": 50,
   "id": "2414f099-84a6-48d4-8b98-5063dfff5b83",
   "metadata": {},
   "outputs": [
    {
     "name": "stdout",
     "output_type": "stream",
     "text": [
      "An error occurred. Check 'file_errors.log' for details.\n"
     ]
    }
   ],
   "source": [
    "#A.23.\n",
    "\n",
    "import logging\n",
    "\n",
    "# Configure logging to write errors to 'file_errors.log'\n",
    "logging.basicConfig(\n",
    "    filename='file_errors.log',\n",
    "    level=logging.ERROR,\n",
    "    format='%(asctime)s - %(levelname)s - %(message)s'\n",
    ")\n",
    "\n",
    "filename = \"non_existent_file.txt\"\n",
    "\n",
    "try:\n",
    "    with open(filename, \"r\") as file:\n",
    "        content = file.read()\n",
    "        print(content)\n",
    "except Exception as e:\n",
    "    logging.error(f\"Error occurred while handling the file '{filename}': {e}\")\n",
    "    print(f\"An error occurred. Check 'file_errors.log' for details.\")"
   ]
  },
  {
   "cell_type": "code",
   "execution_count": null,
   "id": "6f52568f-7efa-419d-aef9-6ffb724d3134",
   "metadata": {},
   "outputs": [],
   "source": []
  }
 ],
 "metadata": {
  "kernelspec": {
   "display_name": "Python 3 (ipykernel)",
   "language": "python",
   "name": "python3"
  },
  "language_info": {
   "codemirror_mode": {
    "name": "ipython",
    "version": 3
   },
   "file_extension": ".py",
   "mimetype": "text/x-python",
   "name": "python",
   "nbconvert_exporter": "python",
   "pygments_lexer": "ipython3",
   "version": "3.13.2"
  }
 },
 "nbformat": 4,
 "nbformat_minor": 5
}
